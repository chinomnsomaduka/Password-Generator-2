{
 "cells": [
  {
   "cell_type": "markdown",
   "id": "4aba53bf",
   "metadata": {},
   "source": [
    "# Simple Password Generator with a GUI"
   ]
  },
  {
   "cell_type": "markdown",
   "id": "964c4c04",
   "metadata": {},
   "source": [
    "Import the [Tk interface](https://docs.python.org/3/library/tkinter.html) module."
   ]
  },
  {
   "cell_type": "code",
   "execution_count": 1,
   "id": "c9a3fdcc",
   "metadata": {},
   "outputs": [],
   "source": [
    "# Import tkinter library\n",
    "from tkinter import *"
   ]
  },
  {
   "cell_type": "markdown",
   "id": "9fe08e76",
   "metadata": {},
   "source": [
    "Import the [random](https://docs.python.org/3/library/random.html) module. This module implements pseudo-random number generators for various distributions."
   ]
  },
  {
   "cell_type": "code",
   "execution_count": 2,
   "id": "90b7103a",
   "metadata": {},
   "outputs": [],
   "source": [
    "# The import random loads the random module, which contains a number of random number generation-related functions.\n",
    "import random"
   ]
  },
  {
   "cell_type": "markdown",
   "id": "0ae13558",
   "metadata": {},
   "source": [
    "[Tkinter](https://www.tutorialspoint.com/what-does-calling-tk-actually-do) is a Python package which comes with many functions and methods that can be used to create an application. In order to create a [tkinter](https://python-course.eu/tkinter/) application, we generally create an instance of tkinter frame, i.e., **Tk()**. It helps to display the root window and manages all the other components of the tkinter application. We can initialize the tkinter instance by assigning the variable to it."
   ]
  },
  {
   "cell_type": "code",
   "execution_count": 3,
   "id": "9d08be58",
   "metadata": {},
   "outputs": [],
   "source": [
    "# Create an instance of tkinter frame or window\n",
    "wn=Tk()\n",
    "# Set the geometry of tkinter frame\n",
    "wn.geometry(\"600x300\")\n",
    "# The title method makes the first letter in each word upper case\n",
    "wn.title(\"Password Generator\")\n",
    "# Set tkinter window background color\n",
    "wn.configure(bg=\"white\")"
   ]
  },
  {
   "cell_type": "code",
   "execution_count": 4,
   "id": "ee4228c5",
   "metadata": {},
   "outputs": [],
   "source": [
    "# The generate() function defined below is used to randomize text based on the user's input.  \n",
    "def generate():\n",
    "    # Create a characters variable which stores a string of chracters\n",
    "    characters=\"abcdefghijklmnopqrstuvwxyzABCDEFGHIJKLMNOPQRSTUVWXYZ0123456789.!@#$%^&*_:;\"\n",
    "\n",
    "    # The sample() method returns a list with a randomly selection of a specified number of items from a sequence.\n",
    "    # Python Dictionary get() Method return the value for the given key if present in the dictionary. If not, then it will return None (if get() is used with only one argument)\n",
    "    password_list=random.sample(characters, int(password_length_entry.get()))\n",
    "    # The join() method takes all items in an iterable and joins them into one string.\n",
    "    # Converts list to a string.\n",
    "    password=\"\".join(password_list)\n",
    "    # The following delete() method is used to delete all text in the widget.\n",
    "    get_password_entry.delete(0, END)\n",
    "    # The insert() method inserts an element to the list at the specified index.\n",
    "    # The insert() method doesn't return anything; returns None. It only updates the current list.\n",
    "    get_password_entry.insert(END, password)\n",
    "\n",
    "# Create a tkinter frame and define the background color\n",
    "frame1=Frame(wn, bg=\"white\")\n",
    "frame1.pack(side=TOP)\n",
    "\n",
    "password_length_label=Label(frame1, text=\"Length of Password :: \", font=(\"consolas 25\"), bg=\"white\")\n",
    "password_length_label.pack(side=LEFT)\n",
    "\n",
    "password_length_entry=Entry(frame1, bd=2.5, font=(\"consolas\"))\n",
    "password_length_entry.pack(side=LEFT)\n",
    "password_length_entry.focus()\n",
    "\n",
    "# Create an label inside the frame\n",
    "password_button=Button(wn, text=\"Generate\", font=(\"consolas\"), command=generate)\n",
    "password_button.pack(side=TOP)\n",
    "\n",
    "password_frame=Frame(wn, bg=\"white\")\n",
    "password_frame.pack(side=TOP)\n",
    "\n",
    "# Create an label inside the frame\n",
    "password_label=Label(password_frame, text=\"Password :: \", font=(\"consolas 25\"), bg=\"white\")\n",
    "password_label.pack(side=LEFT)\n",
    "\n",
    "get_password_entry=Entry(password_frame, bd=2.5, font=(\"consolas\"))\n",
    "get_password_entry.pack(side=LEFT)\n",
    "\n",
    "wn.bind(\"<Return>\", lambda pressed_kay:generate())\n",
    "\n",
    "wn.mainloop()"
   ]
  },
  {
   "cell_type": "code",
   "execution_count": null,
   "id": "cbe0edca",
   "metadata": {},
   "outputs": [],
   "source": []
  }
 ],
 "metadata": {
  "kernelspec": {
   "display_name": "Python 3 (ipykernel)",
   "language": "python",
   "name": "python3"
  },
  "language_info": {
   "codemirror_mode": {
    "name": "ipython",
    "version": 3
   },
   "file_extension": ".py",
   "mimetype": "text/x-python",
   "name": "python",
   "nbconvert_exporter": "python",
   "pygments_lexer": "ipython3",
   "version": "3.9.13"
  }
 },
 "nbformat": 4,
 "nbformat_minor": 5
}
