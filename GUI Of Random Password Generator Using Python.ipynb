{
 "cells": [
  {
   "cell_type": "markdown",
   "id": "e44110e0",
   "metadata": {},
   "source": [
    "# [GUI Of Random Password Generator Using Python ](https://www.geeksforgeeks.org/python-random-password-generator-using-tkinter/)"
   ]
  },
  {
   "cell_type": "code",
   "execution_count": null,
   "id": "dc33717b",
   "metadata": {},
   "outputs": [],
   "source": [
    "# pip install tkinter\n",
    "from tkinter import * \n",
    "# pip install pyperclip\n",
    "# import pyperclip \n",
    "import random\n",
    " \n",
    "root = Tk()\n",
    "root.geometry(\"700x300\")\n",
    "passwrd = StringVar()\n",
    "passlen = IntVar()\n",
    "passlen.set(0)\n",
    " \n",
    " \n",
    "def generate():  # Function to generate the password\n",
    "    pass1 = ['a', 'b', 'c', 'd', 'e', 'f', 'g', 'h', 'i', 'j',\n",
    "             'k', 'l', 'm', 'n', 'o', 'p', 'q', 'r', 's', 't',\n",
    "             'u', 'v', 'w', 'x', 'y', 'z', 'A', 'B', 'C', 'D',\n",
    "             'E', 'F', 'G', 'H', 'I', 'J', 'K', 'L', 'M', 'N',\n",
    "             'O', 'P', 'Q', 'R', 'S', 'T', 'U', 'V', 'W', 'X',\n",
    "             'Y', 'Z', '1', '2', '3', '4', '5', '6', '7', '8',\n",
    "             '9', '0', ' ', '!', '@', '#', '$', '%', '^', '&',\n",
    "             '*', '(', ')']\n",
    "    password = \"\"\n",
    "    for x in range(passlen.get()):\n",
    "        password = password + random.choice(pass1)\n",
    "    passwrd.set(password)\n",
    " \n",
    "# function to copy the passcode\n",
    " \n",
    " \n",
    "def copyclipboard():\n",
    "    random_password = passwrd.get()\n",
    "    pyperclip.copy(random_password)\n",
    "# Labels\n",
    " \n",
    " \n",
    "Label(root, text=\"Strong Password Generator\", font=\"Courier 30 bold\").pack()\n",
    "Label(root, text=\"Personal Password Generator\", font=\"Courier 20 italic\").pack()\n",
    "Label(root, text=\"Enter the number to get password\").pack(pady=3)\n",
    "Entry(root, textvariable=passlen).pack(pady=3)\n",
    "Button(root, text=\"Tap to get\", command=generate).pack(pady=7)\n",
    "Entry(root, textvariable=passwrd).pack(pady=3)\n",
    "Button(root, text=\"Tap to copy clipboard\", command=copyclipboard).pack()\n",
    "root.mainloop()"
   ]
  },
  {
   "cell_type": "code",
   "execution_count": null,
   "id": "54dbb614",
   "metadata": {},
   "outputs": [],
   "source": []
  }
 ],
 "metadata": {
  "kernelspec": {
   "display_name": "Python 3 (ipykernel)",
   "language": "python",
   "name": "python3"
  },
  "language_info": {
   "codemirror_mode": {
    "name": "ipython",
    "version": 3
   },
   "file_extension": ".py",
   "mimetype": "text/x-python",
   "name": "python",
   "nbconvert_exporter": "python",
   "pygments_lexer": "ipython3",
   "version": "3.9.13"
  }
 },
 "nbformat": 4,
 "nbformat_minor": 5
}
