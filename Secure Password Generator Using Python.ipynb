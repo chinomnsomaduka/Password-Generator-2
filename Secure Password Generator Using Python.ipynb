{
 "cells": [
  {
   "cell_type": "markdown",
   "id": "ad80be3b",
   "metadata": {},
   "source": [
    "# [Secure Password Generator Using Python](https://www.analyticsvidhya.com/blog/2022/06/secure-password-generator-using-python/)"
   ]
  },
  {
   "cell_type": "markdown",
   "id": "1e503125",
   "metadata": {},
   "source": [
    "## Introduction on Password Generator\n",
    "In this application, we will see how to build the password generator. Password generate is a python application that will generate the random string of the desired length. Nowadays we are using many applications and websites that require passwords. Setting strong passwords is very important to avoid any attack by attackers and to keep our information safe. Now we will build this application using [python](https://www.analyticsvidhya.com/blog/2022/06/cartoonify-image-using-opencv-and-python/), Tkinter, and pyperclip."
   ]
  },
  {
   "cell_type": "markdown",
   "id": "eed4f4da",
   "metadata": {},
   "source": [
    "## Requirement\n",
    "Let us see the requirements that are needed for us to build this application.\n",
    "\n",
    "**Python:** Python is the programming language that we will use to build the application.\n",
    "\n",
    "**Tkinter:** Tkinter is a Graphical User Interface library. using Tkinter is one of the easiest ways to build any GUI-based applications. In this application, we use Tkinter to build the window where we generate a random password.\n",
    "\n",
    "**pyperclip:** Pyperclip is a module in python that is used for copying and pasting the text. So in our application after generating the password we will also have an option to copy the password.\n",
    "\n",
    "**Random:** Passwords are generated randomly so to generate these passwords randomly we use the random module. This random module generates the random numbers.\n",
    "\n",
    "**Strings:** The string module in python helps in creating and customizing strings.\n",
    "\n",
    "Now let us move into the implementation part."
   ]
  },
  {
   "cell_type": "markdown",
   "id": "e78c0048",
   "metadata": {},
   "source": [
    "## Implementation\n",
    "For any project, we have to start by importing the required modules. For our application, we will import Tkinter, Pyperclip, Random, and strings.\n",
    "\n",
    "If these libraries are not preinstalled, then you have to install them and then you have to import them. For installing these libraries you have to use pip install to install them. I basically use jupyter notebook to run the code so I open the anaconda prompt and run these commands to install the libraries. You can use any prompt to install them."
   ]
  },
  {
   "cell_type": "code",
   "execution_count": 1,
   "id": "cfec15fd",
   "metadata": {},
   "outputs": [],
   "source": [
    "# To install Tkinter\n",
    "# pip install tkinter"
   ]
  },
  {
   "cell_type": "code",
   "execution_count": 6,
   "id": "ed3f9b12",
   "metadata": {},
   "outputs": [
    {
     "ename": "SyntaxError",
     "evalue": "invalid syntax (3706100742.py, line 2)",
     "output_type": "error",
     "traceback": [
      "\u001b[1;36m  File \u001b[1;32m\"C:\\Users\\chinc\\AppData\\Local\\Temp\\ipykernel_22844\\3706100742.py\"\u001b[1;36m, line \u001b[1;32m2\u001b[0m\n\u001b[1;33m    pip install pyperclip\u001b[0m\n\u001b[1;37m        ^\u001b[0m\n\u001b[1;31mSyntaxError\u001b[0m\u001b[1;31m:\u001b[0m invalid syntax\n"
     ]
    }
   ],
   "source": [
    "# To install pyperclip\n",
    "# pip install pyperclip"
   ]
  },
  {
   "cell_type": "code",
   "execution_count": 3,
   "id": "5329eb66",
   "metadata": {},
   "outputs": [],
   "source": [
    "# To install random\n",
    "# pip install random"
   ]
  },
  {
   "cell_type": "code",
   "execution_count": 4,
   "id": "72f1c87b",
   "metadata": {},
   "outputs": [],
   "source": [
    "# To install strings\n",
    "# pip install strings"
   ]
  },
  {
   "cell_type": "markdown",
   "id": "856930a1",
   "metadata": {},
   "source": [
    "Now import all the libraries. From Tkinter import all the libraries. So to import everything that has in that particular module we use *."
   ]
  },
  {
   "cell_type": "code",
   "execution_count": 5,
   "id": "0e72480c",
   "metadata": {},
   "outputs": [
    {
     "ename": "ModuleNotFoundError",
     "evalue": "No module named 'pyperclip'",
     "output_type": "error",
     "traceback": [
      "\u001b[1;31m---------------------------------------------------------------------------\u001b[0m",
      "\u001b[1;31mModuleNotFoundError\u001b[0m                       Traceback (most recent call last)",
      "\u001b[1;32m~\\AppData\\Local\\Temp\\ipykernel_22844\\4091124308.py\u001b[0m in \u001b[0;36m<module>\u001b[1;34m\u001b[0m\n\u001b[0;32m      1\u001b[0m \u001b[1;32mfrom\u001b[0m \u001b[0mtkinter\u001b[0m \u001b[1;32mimport\u001b[0m \u001b[1;33m*\u001b[0m\u001b[1;33m\u001b[0m\u001b[1;33m\u001b[0m\u001b[0m\n\u001b[0;32m      2\u001b[0m \u001b[1;32mimport\u001b[0m \u001b[0mrandom\u001b[0m\u001b[1;33m,\u001b[0m \u001b[0mstring\u001b[0m\u001b[1;33m\u001b[0m\u001b[1;33m\u001b[0m\u001b[0m\n\u001b[1;32m----> 3\u001b[1;33m \u001b[1;32mimport\u001b[0m \u001b[0mpyperclip\u001b[0m\u001b[1;33m\u001b[0m\u001b[1;33m\u001b[0m\u001b[0m\n\u001b[0m",
      "\u001b[1;31mModuleNotFoundError\u001b[0m: No module named 'pyperclip'"
     ]
    }
   ],
   "source": [
    "from tkinter import *\n",
    "import random, string\n",
    "import pyperclip"
   ]
  },
  {
   "cell_type": "code",
   "execution_count": null,
   "id": "8ce4aac9",
   "metadata": {},
   "outputs": [],
   "source": []
  }
 ],
 "metadata": {
  "kernelspec": {
   "display_name": "Python 3 (ipykernel)",
   "language": "python",
   "name": "python3"
  },
  "language_info": {
   "codemirror_mode": {
    "name": "ipython",
    "version": 3
   },
   "file_extension": ".py",
   "mimetype": "text/x-python",
   "name": "python",
   "nbconvert_exporter": "python",
   "pygments_lexer": "ipython3",
   "version": "3.9.13"
  }
 },
 "nbformat": 4,
 "nbformat_minor": 5
}
