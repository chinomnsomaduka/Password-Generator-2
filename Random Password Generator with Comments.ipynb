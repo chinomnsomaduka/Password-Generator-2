{
 "cells": [
  {
   "cell_type": "markdown",
   "id": "46383aaf",
   "metadata": {},
   "source": [
    "# Random [Password Generator](https://www.instructables.com/How-To-Creating-a-Random-Password-Generator-With-P/) with Python\n",
    "\n",
    "The \"import random\" function allows you to take variables from the \"chars\" function. If you want the password to be harder to crack I strongly suggest adding more than just letters of the alphabet. This script includes numbers, uppercase letters, and symbols in order to make the password longer."
   ]
  },
  {
   "cell_type": "markdown",
   "id": "1d885a6c",
   "metadata": {},
   "source": [
    "## 1. Import Modules"
   ]
  },
  {
   "cell_type": "code",
   "execution_count": 1,
   "id": "64449619",
   "metadata": {},
   "outputs": [],
   "source": [
    "# Import the in-built random modules, which is used to generate random numbers.\n",
    "import random"
   ]
  },
  {
   "cell_type": "markdown",
   "id": "e58c4390",
   "metadata": {},
   "source": [
    "## 2. Declare Variable\n",
    "### Global Variables"
   ]
  },
  {
   "cell_type": "code",
   "execution_count": 2,
   "id": "89e79c71",
   "metadata": {},
   "outputs": [],
   "source": [
    "# Create a variable called chars that reads in a string of letters and symbols.\n",
    "chars = 'abcdefghijklmnopqrstuvwxyz1234567890ABCDEFGHIJKLMNOPQRSTUVWXYZ!@#$%^&*'"
   ]
  },
  {
   "cell_type": "markdown",
   "id": "27660ab2",
   "metadata": {},
   "source": [
    "The \"number\" variable is used to represent the number of passwords you would like the program to generate."
   ]
  },
  {
   "cell_type": "code",
   "execution_count": 3,
   "id": "77174059",
   "metadata": {},
   "outputs": [
    {
     "name": "stdout",
     "output_type": "stream",
     "text": [
      "Enter the number of passwords:5\n"
     ]
    }
   ],
   "source": [
    "# Create a variable called number that reads in a user's input of type integer.\n",
    "number = input('Enter the number of passwords:')\n",
    "number = int(number)"
   ]
  },
  {
   "cell_type": "markdown",
   "id": "a1036ff5",
   "metadata": {},
   "source": [
    "The \"length\" variable is used to represent the length of your password. Another way to see it is; how many characters do you want your password to consist of?"
   ]
  },
  {
   "cell_type": "code",
   "execution_count": 4,
   "id": "eee24866",
   "metadata": {},
   "outputs": [
    {
     "name": "stdout",
     "output_type": "stream",
     "text": [
      "Enter the length of your password:50\n"
     ]
    }
   ],
   "source": [
    "# Create a variable called length that reads in a user's input of type integer.\n",
    "length = input('Enter the length of your password:')\n",
    "length = int(length)"
   ]
  },
  {
   "cell_type": "code",
   "execution_count": 5,
   "id": "9a068e3f",
   "metadata": {},
   "outputs": [
    {
     "name": "stdout",
     "output_type": "stream",
     "text": [
      "XcI10!r*B4j%iI@eLFNgHsaB$Q1RlbpZuYX5t&LC*$zU&r!6VS\n",
      "D8hHLmsC%I!JR#IBU2IfKuK^Ab^#5CK3MpNJW&nM0#EZDkHGeK\n",
      "A1Aelyr48P9*QbdOYF$2!Zw^8D06EY28ggmtVz#0bM*95JP@4C\n",
      "@WPCW96hGnL2eVwa5ZR5$mIuHN4dUbaC!POj5xjE@4cCT2T9t6\n",
      "KiuO$kvxaNa0KMR%K*ye746EGld%Dc$sM5q9TJv8QIbuxsXO50\n"
     ]
    }
   ],
   "source": [
    "# This for loop reads in the number of passwords provided by the user and prints a string for each number.\n",
    "# The range() function returns a sequence of numbers, starting from 0 by default, and increments by 1 (by default), and stops before a specified number.\n",
    "for p in range(number):\n",
    "    password = ''\n",
    "    # For loop reads in the length of password provided by the user and uses the random module to randomize the chars variable.\n",
    "    for c in range(length):\n",
    "        # The choice() method returns a randomly selected element from the specified sequence.\n",
    "        # The += symbol is used to add the new character to the password string each time.\n",
    "        password += random.choice(chars)\n",
    "    print(password)"
   ]
  },
  {
   "cell_type": "code",
   "execution_count": null,
   "id": "260ee307",
   "metadata": {},
   "outputs": [],
   "source": []
  }
 ],
 "metadata": {
  "kernelspec": {
   "display_name": "Python 3 (ipykernel)",
   "language": "python",
   "name": "python3"
  },
  "language_info": {
   "codemirror_mode": {
    "name": "ipython",
    "version": 3
   },
   "file_extension": ".py",
   "mimetype": "text/x-python",
   "name": "python",
   "nbconvert_exporter": "python",
   "pygments_lexer": "ipython3",
   "version": "3.9.13"
  }
 },
 "nbformat": 4,
 "nbformat_minor": 5
}
